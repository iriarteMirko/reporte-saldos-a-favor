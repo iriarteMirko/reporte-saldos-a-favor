{
 "cells": [
  {
   "cell_type": "code",
   "execution_count": 1,
   "metadata": {},
   "outputs": [],
   "source": [
    "import warnings\n",
    "warnings.filterwarnings('ignore')\n",
    "from datetime import datetime, timedelta\n",
    "import pandas as pd\n",
    "import os"
   ]
  },
  {
   "cell_type": "code",
   "execution_count": 2,
   "metadata": {},
   "outputs": [],
   "source": [
    "fecha_hoy_format: str = \"2024.06.25\"\n",
    "fecha_corte_format: str = \"2024.06.20\"\n",
    "\n",
    "ruta_dacxa: str = \"C:/Users/miria/Desktop/Disco Z Claro/JEFATURA CCD/Nuevo_DACxANALISTA.xlsx\"\n",
    "\n",
    "ruta_ipe_control: str = \"C:/Users/miria/Desktop/Disco Z Claro/SALDOS A FAVOR//IPE/CONTROL/IP_CONTROL_2024.06.25.xlsx\"\n",
    "\n",
    "ruta_control: str = \"C:/Users/miria/Desktop/Disco Z Claro/SALDOS A FAVOR//Saldos a Favor - Control/Saldos_a_Favor_Control_2024.06.25.xlsx\""
   ]
  },
  {
   "cell_type": "code",
   "execution_count": 3,
   "metadata": {},
   "outputs": [
    {
     "data": {
      "text/plain": [
       "(3932, 19)"
      ]
     },
     "execution_count": 3,
     "metadata": {},
     "output_type": "execute_result"
    }
   ],
   "source": [
    "df_dacxa: pd.DataFrame = pd.read_excel(ruta_dacxa, sheet_name=\"Base_NUEVA\")\n",
    "df_dacxa.shape"
   ]
  },
  {
   "cell_type": "code",
   "execution_count": 4,
   "metadata": {},
   "outputs": [
    {
     "data": {
      "text/plain": [
       "(22967, 19)"
      ]
     },
     "execution_count": 4,
     "metadata": {},
     "output_type": "execute_result"
    }
   ],
   "source": [
    "df_control: pd.DataFrame = pd.read_excel(ruta_ipe_control)\n",
    "df_control.shape"
   ]
  },
  {
   "cell_type": "code",
   "execution_count": 5,
   "metadata": {},
   "outputs": [
    {
     "data": {
      "text/plain": [
       "Status                   float64\n",
       "ACC                       object\n",
       "Asignación                object\n",
       "Cuenta                     int64\n",
       "Nº doc.                    int64\n",
       "Referencia                object\n",
       "Clase                     object\n",
       "Doc.comp.                float64\n",
       "Texto                     object\n",
       "Cl.oper.CME              float64\n",
       "Lib.mayor                  int64\n",
       "Factura                  float64\n",
       "Fecha doc.        datetime64[ns]\n",
       "Fecha pago        datetime64[ns]\n",
       "Compens.          datetime64[ns]\n",
       "Demora                     int64\n",
       "Mon.                      object\n",
       "Importe en ML            float64\n",
       "Importe en ML2           float64\n",
       "dtype: object"
      ]
     },
     "execution_count": 5,
     "metadata": {},
     "output_type": "execute_result"
    }
   ],
   "source": [
    "df_control.dtypes"
   ]
  },
  {
   "cell_type": "code",
   "execution_count": 6,
   "metadata": {},
   "outputs": [
    {
     "data": {
      "text/plain": [
       "0"
      ]
     },
     "execution_count": 6,
     "metadata": {},
     "output_type": "execute_result"
    }
   ],
   "source": [
    "df_control[\"Cuenta\"].isna().sum()"
   ]
  },
  {
   "cell_type": "code",
   "execution_count": null,
   "metadata": {},
   "outputs": [],
   "source": []
  }
 ],
 "metadata": {
  "kernelspec": {
   "display_name": "Python 3",
   "language": "python",
   "name": "python3"
  },
  "language_info": {
   "codemirror_mode": {
    "name": "ipython",
    "version": 3
   },
   "file_extension": ".py",
   "mimetype": "text/x-python",
   "name": "python",
   "nbconvert_exporter": "python",
   "pygments_lexer": "ipython3",
   "version": "3.10.9"
  }
 },
 "nbformat": 4,
 "nbformat_minor": 2
}
