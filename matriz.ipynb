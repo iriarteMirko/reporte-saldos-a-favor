{
 "cells": [
  {
   "cell_type": "code",
   "execution_count": 1,
   "metadata": {},
   "outputs": [],
   "source": [
    "import warnings\n",
    "warnings.filterwarnings('ignore')\n",
    "from datetime import datetime, timedelta\n",
    "import pandas as pd\n",
    "import os"
   ]
  },
  {
   "cell_type": "code",
   "execution_count": 2,
   "metadata": {},
   "outputs": [],
   "source": [
    "fecha_hoy_format: str = \"2024.06.21\"\n",
    "\n",
    "ruta_dacxa: str = \"C:/Users/miria/Desktop/Disco Z Claro/JEFATURA CCD/Nuevo_DACxANALISTA.xlsx\"\n",
    "\n",
    "ruta_ipe_inicio: str = \"C:/Users/miria/Desktop/Disco Z Claro/SALDOS A FAVOR//IPE/INICIO/IP_INICIO_2024.06.21.xlsx\"\n",
    "\n",
    "ruta_matriz: str = \"C:/Users/miria/Desktop/Disco Z Claro/SALDOS A FAVOR/Saldos a Favor - Matriz/Saldos_a_Favor_Matriz_2024.06.21.xlsx\""
   ]
  },
  {
   "cell_type": "code",
   "execution_count": 3,
   "metadata": {},
   "outputs": [
    {
     "data": {
      "text/plain": [
       "(3913, 6)"
      ]
     },
     "execution_count": 3,
     "metadata": {},
     "output_type": "execute_result"
    }
   ],
   "source": [
    "columnas_originales = [\"DEUDOR\", \"NOMBRE\", \"ESTADO\", \"REGION\", \"TIPO_DAC\", \"ANALISTA_ACT\"]\n",
    "columnas_renombradas = [\"Cuenta\", \"Cliente\", \"Status\", \"Region\", \"Tipo\", \"Responsable\"]\n",
    "\n",
    "df_dacxa: pd.DataFrame = pd.read_excel(ruta_dacxa, sheet_name=\"Base_NUEVA\", usecols=columnas_originales)\n",
    "df_dacxa.rename(columns=dict(zip(columnas_originales, columnas_renombradas)), inplace=True)\n",
    "df_dacxa = df_dacxa[columnas_renombradas]\n",
    "df_dacxa.shape\n"
   ]
  },
  {
   "cell_type": "code",
   "execution_count": 4,
   "metadata": {},
   "outputs": [
    {
     "data": {
      "text/plain": [
       "(1258, 6)"
      ]
     },
     "execution_count": 4,
     "metadata": {},
     "output_type": "execute_result"
    }
   ],
   "source": [
    "df_dacxa = df_dacxa[(df_dacxa[\"Status\"] != \"LIQUIDADO\") & (df_dacxa[\"Responsable\"] != \"SIN INFORMACION\")]\n",
    "df_dacxa.dropna(subset=[\"Cuenta\"], inplace=True)\n",
    "df_dacxa[\"Cuenta\"] = df_dacxa[\"Cuenta\"].astype(\"int64\").astype(str)\n",
    "df_dacxa.reset_index(drop=True, inplace=True)\n",
    "df_dacxa.shape"
   ]
  },
  {
   "cell_type": "code",
   "execution_count": 5,
   "metadata": {},
   "outputs": [
    {
     "data": {
      "text/html": [
       "<div>\n",
       "<style scoped>\n",
       "    .dataframe tbody tr th:only-of-type {\n",
       "        vertical-align: middle;\n",
       "    }\n",
       "\n",
       "    .dataframe tbody tr th {\n",
       "        vertical-align: top;\n",
       "    }\n",
       "\n",
       "    .dataframe thead th {\n",
       "        text-align: right;\n",
       "    }\n",
       "</style>\n",
       "<table border=\"1\" class=\"dataframe\">\n",
       "  <thead>\n",
       "    <tr style=\"text-align: right;\">\n",
       "      <th></th>\n",
       "      <th>Cuenta</th>\n",
       "      <th>Cliente</th>\n",
       "      <th>Status</th>\n",
       "      <th>Region</th>\n",
       "      <th>Tipo</th>\n",
       "      <th>Responsable</th>\n",
       "    </tr>\n",
       "  </thead>\n",
       "  <tbody>\n",
       "    <tr>\n",
       "      <th>0</th>\n",
       "      <td>4070459</td>\n",
       "      <td>CONTACTE S.A.</td>\n",
       "      <td>OPERATIVO SIN MOVIMIENTO</td>\n",
       "      <td>LIMA</td>\n",
       "      <td>AGENTE TELMEX</td>\n",
       "      <td>DIEGO RODRIGUEZ</td>\n",
       "    </tr>\n",
       "    <tr>\n",
       "      <th>1</th>\n",
       "      <td>4070467</td>\n",
       "      <td>CSD GLOBAL SERVICES S.A.C.</td>\n",
       "      <td>OPERATIVO SIN MOVIMIENTO</td>\n",
       "      <td>LIMA</td>\n",
       "      <td>AGENTE TELMEX</td>\n",
       "      <td>JOSE LUIS VALVERDE</td>\n",
       "    </tr>\n",
       "    <tr>\n",
       "      <th>2</th>\n",
       "      <td>4070600</td>\n",
       "      <td>SATELITAL TELECOMUNICACIONES S.A.C.</td>\n",
       "      <td>OPERATIVO CON MOVIMIENTO</td>\n",
       "      <td>LIMA</td>\n",
       "      <td>AGENTE TELMEX  / RED</td>\n",
       "      <td>JUAN CARLOS HUATAY</td>\n",
       "    </tr>\n",
       "    <tr>\n",
       "      <th>3</th>\n",
       "      <td>4070168</td>\n",
       "      <td>HURTADO ARBILDO USER KIT</td>\n",
       "      <td>OPERATIVO SIN MOVIMIENTO</td>\n",
       "      <td>CENTRO</td>\n",
       "      <td>CDR</td>\n",
       "      <td>DIEGO RODRIGUEZ</td>\n",
       "    </tr>\n",
       "    <tr>\n",
       "      <th>4</th>\n",
       "      <td>4070192</td>\n",
       "      <td>SANCHEZ VILCA DE TAPARA VICTORIA</td>\n",
       "      <td>OPERATIVO SIN MOVIMIENTO</td>\n",
       "      <td>SUR</td>\n",
       "      <td>CDR</td>\n",
       "      <td>REGION SUR</td>\n",
       "    </tr>\n",
       "  </tbody>\n",
       "</table>\n",
       "</div>"
      ],
      "text/plain": [
       "    Cuenta                              Cliente                    Status  \\\n",
       "0  4070459                        CONTACTE S.A.  OPERATIVO SIN MOVIMIENTO   \n",
       "1  4070467           CSD GLOBAL SERVICES S.A.C.  OPERATIVO SIN MOVIMIENTO   \n",
       "2  4070600  SATELITAL TELECOMUNICACIONES S.A.C.  OPERATIVO CON MOVIMIENTO   \n",
       "3  4070168             HURTADO ARBILDO USER KIT  OPERATIVO SIN MOVIMIENTO   \n",
       "4  4070192     SANCHEZ VILCA DE TAPARA VICTORIA  OPERATIVO SIN MOVIMIENTO   \n",
       "\n",
       "   Region                  Tipo         Responsable  \n",
       "0    LIMA         AGENTE TELMEX     DIEGO RODRIGUEZ  \n",
       "1    LIMA         AGENTE TELMEX  JOSE LUIS VALVERDE  \n",
       "2    LIMA  AGENTE TELMEX  / RED  JUAN CARLOS HUATAY  \n",
       "3  CENTRO                   CDR     DIEGO RODRIGUEZ  \n",
       "4     SUR                   CDR          REGION SUR  "
      ]
     },
     "execution_count": 5,
     "metadata": {},
     "output_type": "execute_result"
    }
   ],
   "source": [
    "df_dacxa.head(5)"
   ]
  },
  {
   "cell_type": "code",
   "execution_count": 6,
   "metadata": {},
   "outputs": [
    {
     "data": {
      "text/plain": [
       "(21579, 11)"
      ]
     },
     "execution_count": 6,
     "metadata": {},
     "output_type": "execute_result"
    }
   ],
   "source": [
    "columnas_inicio = [\"Cuenta\", \"ACC\", \"Nº doc.\", \"Referencia\", \"Fecha doc.\", \"Fecha pago\", \"Clase\", \"Demora\", \"Mon.\", \"Importe en ML\", \"Texto\"]\n",
    "\n",
    "df_inicio: pd.DataFrame = pd.read_excel(ruta_ipe_inicio, usecols=columnas_inicio)\n",
    "df_inicio = df_inicio[columnas_inicio]\n",
    "df_inicio.shape"
   ]
  },
  {
   "cell_type": "code",
   "execution_count": 7,
   "metadata": {},
   "outputs": [
    {
     "data": {
      "text/plain": [
       "0"
      ]
     },
     "execution_count": 7,
     "metadata": {},
     "output_type": "execute_result"
    }
   ],
   "source": [
    "df_inicio[\"Cuenta\"].isna().sum()"
   ]
  },
  {
   "cell_type": "code",
   "execution_count": 8,
   "metadata": {},
   "outputs": [
    {
     "data": {
      "text/plain": [
       "(21579, 11)"
      ]
     },
     "execution_count": 8,
     "metadata": {},
     "output_type": "execute_result"
    }
   ],
   "source": [
    "df_inicio[\"Cuenta\"] = df_inicio[\"Cuenta\"].astype(\"int64\").astype(str)\n",
    "df_inicio.dropna(subset=[\"Cuenta\"], inplace=True)\n",
    "\n",
    "df_inicio.shape"
   ]
  },
  {
   "cell_type": "code",
   "execution_count": 9,
   "metadata": {},
   "outputs": [
    {
     "data": {
      "text/plain": [
       "(2031, 11)"
      ]
     },
     "execution_count": 9,
     "metadata": {},
     "output_type": "execute_result"
    }
   ],
   "source": [
    "df_inicio = df_inicio[df_inicio[\"Importe en ML\"] < 0]\n",
    "df_inicio.reset_index(drop=True, inplace=True)\n",
    "df_inicio.shape"
   ]
  },
  {
   "cell_type": "code",
   "execution_count": 10,
   "metadata": {},
   "outputs": [
    {
     "data": {
      "text/html": [
       "<div>\n",
       "<style scoped>\n",
       "    .dataframe tbody tr th:only-of-type {\n",
       "        vertical-align: middle;\n",
       "    }\n",
       "\n",
       "    .dataframe tbody tr th {\n",
       "        vertical-align: top;\n",
       "    }\n",
       "\n",
       "    .dataframe thead th {\n",
       "        text-align: right;\n",
       "    }\n",
       "</style>\n",
       "<table border=\"1\" class=\"dataframe\">\n",
       "  <thead>\n",
       "    <tr style=\"text-align: right;\">\n",
       "      <th></th>\n",
       "      <th>Cuenta</th>\n",
       "      <th>ACC</th>\n",
       "      <th>Nº doc.</th>\n",
       "      <th>Referencia</th>\n",
       "      <th>Fecha doc.</th>\n",
       "      <th>Fecha pago</th>\n",
       "      <th>Clase</th>\n",
       "      <th>Demora</th>\n",
       "      <th>Mon.</th>\n",
       "      <th>Importe en ML</th>\n",
       "      <th>Texto</th>\n",
       "    </tr>\n",
       "  </thead>\n",
       "  <tbody>\n",
       "    <tr>\n",
       "      <th>0</th>\n",
       "      <td>4070016</td>\n",
       "      <td>NaN</td>\n",
       "      <td>1420073721</td>\n",
       "      <td>NaN</td>\n",
       "      <td>2010-02-17</td>\n",
       "      <td>2010-02-18</td>\n",
       "      <td>C2</td>\n",
       "      <td>5237</td>\n",
       "      <td>PEN</td>\n",
       "      <td>-3000.0</td>\n",
       "      <td>DZ</td>\n",
       "    </tr>\n",
       "    <tr>\n",
       "      <th>1</th>\n",
       "      <td>4070016</td>\n",
       "      <td>NaN</td>\n",
       "      <td>1420052548</td>\n",
       "      <td>NaN</td>\n",
       "      <td>2012-01-15</td>\n",
       "      <td>2012-01-17</td>\n",
       "      <td>C2</td>\n",
       "      <td>4539</td>\n",
       "      <td>PEN</td>\n",
       "      <td>-1000.0</td>\n",
       "      <td>DZ</td>\n",
       "    </tr>\n",
       "    <tr>\n",
       "      <th>2</th>\n",
       "      <td>4070016</td>\n",
       "      <td>NaN</td>\n",
       "      <td>1420002342</td>\n",
       "      <td>NaN</td>\n",
       "      <td>2009-12-29</td>\n",
       "      <td>2009-12-30</td>\n",
       "      <td>C2</td>\n",
       "      <td>5287</td>\n",
       "      <td>PEN</td>\n",
       "      <td>-3572.0</td>\n",
       "      <td>DZ</td>\n",
       "    </tr>\n",
       "    <tr>\n",
       "      <th>3</th>\n",
       "      <td>4070088</td>\n",
       "      <td>NaN</td>\n",
       "      <td>1420060257</td>\n",
       "      <td>COMPENSACION</td>\n",
       "      <td>2010-11-30</td>\n",
       "      <td>2010-11-25</td>\n",
       "      <td>C2</td>\n",
       "      <td>4957</td>\n",
       "      <td>PEN</td>\n",
       "      <td>-30.0</td>\n",
       "      <td>DA compensacion</td>\n",
       "    </tr>\n",
       "    <tr>\n",
       "      <th>4</th>\n",
       "      <td>4070109</td>\n",
       "      <td>NaN</td>\n",
       "      <td>1420057093</td>\n",
       "      <td>SALDO A FAVOR</td>\n",
       "      <td>2011-11-30</td>\n",
       "      <td>2011-10-25</td>\n",
       "      <td>C2</td>\n",
       "      <td>4623</td>\n",
       "      <td>PEN</td>\n",
       "      <td>-68.0</td>\n",
       "      <td>DA COMPENSACIÓN</td>\n",
       "    </tr>\n",
       "  </tbody>\n",
       "</table>\n",
       "</div>"
      ],
      "text/plain": [
       "    Cuenta  ACC     Nº doc.     Referencia Fecha doc. Fecha pago Clase  \\\n",
       "0  4070016  NaN  1420073721            NaN 2010-02-17 2010-02-18    C2   \n",
       "1  4070016  NaN  1420052548            NaN 2012-01-15 2012-01-17    C2   \n",
       "2  4070016  NaN  1420002342            NaN 2009-12-29 2009-12-30    C2   \n",
       "3  4070088  NaN  1420060257   COMPENSACION 2010-11-30 2010-11-25    C2   \n",
       "4  4070109  NaN  1420057093  SALDO A FAVOR 2011-11-30 2011-10-25    C2   \n",
       "\n",
       "   Demora Mon.  Importe en ML            Texto  \n",
       "0    5237  PEN        -3000.0               DZ  \n",
       "1    4539  PEN        -1000.0               DZ  \n",
       "2    5287  PEN        -3572.0               DZ  \n",
       "3    4957  PEN          -30.0  DA compensacion  \n",
       "4    4623  PEN          -68.0  DA COMPENSACIÓN  "
      ]
     },
     "execution_count": 10,
     "metadata": {},
     "output_type": "execute_result"
    }
   ],
   "source": [
    "df_inicio.head(5)"
   ]
  },
  {
   "cell_type": "code",
   "execution_count": 11,
   "metadata": {},
   "outputs": [
    {
     "data": {
      "text/plain": [
       "(15, 2)"
      ]
     },
     "execution_count": 11,
     "metadata": {},
     "output_type": "execute_result"
    }
   ],
   "source": [
    "df_regla: pd.DataFrame = pd.read_excel(\"Regla.xlsx\")\n",
    "df_regla.shape"
   ]
  },
  {
   "cell_type": "code",
   "execution_count": 12,
   "metadata": {},
   "outputs": [
    {
     "data": {
      "text/html": [
       "<div>\n",
       "<style scoped>\n",
       "    .dataframe tbody tr th:only-of-type {\n",
       "        vertical-align: middle;\n",
       "    }\n",
       "\n",
       "    .dataframe tbody tr th {\n",
       "        vertical-align: top;\n",
       "    }\n",
       "\n",
       "    .dataframe thead th {\n",
       "        text-align: right;\n",
       "    }\n",
       "</style>\n",
       "<table border=\"1\" class=\"dataframe\">\n",
       "  <thead>\n",
       "    <tr style=\"text-align: right;\">\n",
       "      <th></th>\n",
       "      <th>ACC</th>\n",
       "      <th>Producto</th>\n",
       "    </tr>\n",
       "  </thead>\n",
       "  <tbody>\n",
       "    <tr>\n",
       "      <th>0</th>\n",
       "      <td>PE01</td>\n",
       "      <td>Pack Postpago</td>\n",
       "    </tr>\n",
       "    <tr>\n",
       "      <th>1</th>\n",
       "      <td>PE02</td>\n",
       "      <td>Pack Prepago</td>\n",
       "    </tr>\n",
       "    <tr>\n",
       "      <th>2</th>\n",
       "      <td>PE03</td>\n",
       "      <td>Recarga Virtual</td>\n",
       "    </tr>\n",
       "    <tr>\n",
       "      <th>3</th>\n",
       "      <td>PE04</td>\n",
       "      <td>Especial</td>\n",
       "    </tr>\n",
       "    <tr>\n",
       "      <th>4</th>\n",
       "      <td>PE05</td>\n",
       "      <td>TRANSACCIONES</td>\n",
       "    </tr>\n",
       "  </tbody>\n",
       "</table>\n",
       "</div>"
      ],
      "text/plain": [
       "    ACC         Producto\n",
       "0  PE01    Pack Postpago\n",
       "1  PE02     Pack Prepago\n",
       "2  PE03  Recarga Virtual\n",
       "3  PE04         Especial\n",
       "4  PE05    TRANSACCIONES"
      ]
     },
     "execution_count": 12,
     "metadata": {},
     "output_type": "execute_result"
    }
   ],
   "source": [
    "df_regla.head(5)"
   ]
  },
  {
   "cell_type": "code",
   "execution_count": 13,
   "metadata": {},
   "outputs": [
    {
     "data": {
      "text/plain": [
       "(2031, 12)"
      ]
     },
     "execution_count": 13,
     "metadata": {},
     "output_type": "execute_result"
    }
   ],
   "source": [
    "df_inicio = pd.merge(df_inicio, df_regla, how=\"left\", left_on=\"ACC\", right_on=\"ACC\")\n",
    "df_inicio.shape"
   ]
  },
  {
   "cell_type": "code",
   "execution_count": 14,
   "metadata": {},
   "outputs": [
    {
     "data": {
      "text/html": [
       "<div>\n",
       "<style scoped>\n",
       "    .dataframe tbody tr th:only-of-type {\n",
       "        vertical-align: middle;\n",
       "    }\n",
       "\n",
       "    .dataframe tbody tr th {\n",
       "        vertical-align: top;\n",
       "    }\n",
       "\n",
       "    .dataframe thead th {\n",
       "        text-align: right;\n",
       "    }\n",
       "</style>\n",
       "<table border=\"1\" class=\"dataframe\">\n",
       "  <thead>\n",
       "    <tr style=\"text-align: right;\">\n",
       "      <th></th>\n",
       "      <th>Cuenta</th>\n",
       "      <th>ACC</th>\n",
       "      <th>Nº doc.</th>\n",
       "      <th>Referencia</th>\n",
       "      <th>Fecha doc.</th>\n",
       "      <th>Fecha pago</th>\n",
       "      <th>Clase</th>\n",
       "      <th>Demora</th>\n",
       "      <th>Mon.</th>\n",
       "      <th>Importe en ML</th>\n",
       "      <th>Texto</th>\n",
       "      <th>Producto</th>\n",
       "    </tr>\n",
       "  </thead>\n",
       "  <tbody>\n",
       "    <tr>\n",
       "      <th>2026</th>\n",
       "      <td>4073842</td>\n",
       "      <td>PE17</td>\n",
       "      <td>4510069630</td>\n",
       "      <td>1704073842</td>\n",
       "      <td>2024-06-01</td>\n",
       "      <td>2024-06-01</td>\n",
       "      <td>J9</td>\n",
       "      <td>20</td>\n",
       "      <td>PEN</td>\n",
       "      <td>-38.56</td>\n",
       "      <td>NaN</td>\n",
       "      <td>HFC</td>\n",
       "    </tr>\n",
       "    <tr>\n",
       "      <th>2027</th>\n",
       "      <td>4073855</td>\n",
       "      <td>PE17</td>\n",
       "      <td>2290621251</td>\n",
       "      <td>1704073855</td>\n",
       "      <td>2024-06-06</td>\n",
       "      <td>2024-06-05</td>\n",
       "      <td>AB</td>\n",
       "      <td>16</td>\n",
       "      <td>PEN</td>\n",
       "      <td>-0.28</td>\n",
       "      <td>COMP AUTOM – CCD</td>\n",
       "      <td>HFC</td>\n",
       "    </tr>\n",
       "    <tr>\n",
       "      <th>2028</th>\n",
       "      <td>4073900</td>\n",
       "      <td>PE17</td>\n",
       "      <td>2290615208</td>\n",
       "      <td>1704073900</td>\n",
       "      <td>2024-06-04</td>\n",
       "      <td>2024-06-03</td>\n",
       "      <td>AB</td>\n",
       "      <td>18</td>\n",
       "      <td>PEN</td>\n",
       "      <td>-0.21</td>\n",
       "      <td>COMP AUTOM – CCD</td>\n",
       "      <td>HFC</td>\n",
       "    </tr>\n",
       "    <tr>\n",
       "      <th>2029</th>\n",
       "      <td>4074807</td>\n",
       "      <td>PE17</td>\n",
       "      <td>2290230160</td>\n",
       "      <td>1704074807</td>\n",
       "      <td>2024-03-03</td>\n",
       "      <td>2024-03-02</td>\n",
       "      <td>AB</td>\n",
       "      <td>111</td>\n",
       "      <td>PEN</td>\n",
       "      <td>-0.30</td>\n",
       "      <td>COMP AUTOM – CCD</td>\n",
       "      <td>HFC</td>\n",
       "    </tr>\n",
       "    <tr>\n",
       "      <th>2030</th>\n",
       "      <td>4074883</td>\n",
       "      <td>PE17</td>\n",
       "      <td>2290615330</td>\n",
       "      <td>1704074883</td>\n",
       "      <td>2024-06-04</td>\n",
       "      <td>2024-06-03</td>\n",
       "      <td>AB</td>\n",
       "      <td>18</td>\n",
       "      <td>PEN</td>\n",
       "      <td>-0.88</td>\n",
       "      <td>COMP AUTOM – CCD</td>\n",
       "      <td>HFC</td>\n",
       "    </tr>\n",
       "  </tbody>\n",
       "</table>\n",
       "</div>"
      ],
      "text/plain": [
       "       Cuenta   ACC     Nº doc.  Referencia Fecha doc. Fecha pago Clase  \\\n",
       "2026  4073842  PE17  4510069630  1704073842 2024-06-01 2024-06-01    J9   \n",
       "2027  4073855  PE17  2290621251  1704073855 2024-06-06 2024-06-05    AB   \n",
       "2028  4073900  PE17  2290615208  1704073900 2024-06-04 2024-06-03    AB   \n",
       "2029  4074807  PE17  2290230160  1704074807 2024-03-03 2024-03-02    AB   \n",
       "2030  4074883  PE17  2290615330  1704074883 2024-06-04 2024-06-03    AB   \n",
       "\n",
       "      Demora Mon.  Importe en ML             Texto Producto  \n",
       "2026      20  PEN         -38.56               NaN      HFC  \n",
       "2027      16  PEN          -0.28  COMP AUTOM – CCD      HFC  \n",
       "2028      18  PEN          -0.21  COMP AUTOM – CCD      HFC  \n",
       "2029     111  PEN          -0.30  COMP AUTOM – CCD      HFC  \n",
       "2030      18  PEN          -0.88  COMP AUTOM – CCD      HFC  "
      ]
     },
     "execution_count": 14,
     "metadata": {},
     "output_type": "execute_result"
    }
   ],
   "source": [
    "df_inicio.tail(5)"
   ]
  },
  {
   "cell_type": "code",
   "execution_count": 15,
   "metadata": {},
   "outputs": [
    {
     "data": {
      "text/plain": [
       "138"
      ]
     },
     "execution_count": 15,
     "metadata": {},
     "output_type": "execute_result"
    }
   ],
   "source": [
    "df_inicio[\"Producto\"].isna().sum()"
   ]
  },
  {
   "cell_type": "code",
   "execution_count": 16,
   "metadata": {},
   "outputs": [
    {
     "data": {
      "text/plain": [
       "(2031, 17)"
      ]
     },
     "execution_count": 16,
     "metadata": {},
     "output_type": "execute_result"
    }
   ],
   "source": [
    "df_matriz = pd.merge(df_inicio, df_dacxa, how=\"left\", left_on=\"Cuenta\", right_on=\"Cuenta\")\n",
    "columnas_finales = [\"Cuenta\", \"ACC\", \"Producto\", \"Cliente\", \"Status\", \"Region\", \"Tipo\", \"Responsable\", \"Nº doc.\", \"Referencia\", \"Fecha doc.\", \"Fecha pago\", \"Clase\", \"Demora\", \"Mon.\", \"Importe en ML\", \"Texto\"]\n",
    "df_matriz = df_matriz[columnas_finales]\n",
    "df_matriz.shape"
   ]
  },
  {
   "cell_type": "code",
   "execution_count": 17,
   "metadata": {},
   "outputs": [
    {
     "data": {
      "text/plain": [
       "(1546, 17)"
      ]
     },
     "execution_count": 17,
     "metadata": {},
     "output_type": "execute_result"
    }
   ],
   "source": [
    "df_matriz.dropna(subset=[\"Cuenta\", \"Status\"], inplace=True)\n",
    "df_matriz.shape"
   ]
  },
  {
   "cell_type": "code",
   "execution_count": 18,
   "metadata": {},
   "outputs": [
    {
     "data": {
      "text/html": [
       "<div>\n",
       "<style scoped>\n",
       "    .dataframe tbody tr th:only-of-type {\n",
       "        vertical-align: middle;\n",
       "    }\n",
       "\n",
       "    .dataframe tbody tr th {\n",
       "        vertical-align: top;\n",
       "    }\n",
       "\n",
       "    .dataframe thead th {\n",
       "        text-align: right;\n",
       "    }\n",
       "</style>\n",
       "<table border=\"1\" class=\"dataframe\">\n",
       "  <thead>\n",
       "    <tr style=\"text-align: right;\">\n",
       "      <th></th>\n",
       "      <th>Cuenta</th>\n",
       "      <th>ACC</th>\n",
       "      <th>Producto</th>\n",
       "      <th>Cliente</th>\n",
       "      <th>Status</th>\n",
       "      <th>Region</th>\n",
       "      <th>Tipo</th>\n",
       "      <th>Responsable</th>\n",
       "      <th>Nº doc.</th>\n",
       "      <th>Referencia</th>\n",
       "      <th>Fecha doc.</th>\n",
       "      <th>Fecha pago</th>\n",
       "      <th>Clase</th>\n",
       "      <th>Demora</th>\n",
       "      <th>Mon.</th>\n",
       "      <th>Importe en ML</th>\n",
       "      <th>Texto</th>\n",
       "    </tr>\n",
       "  </thead>\n",
       "  <tbody>\n",
       "    <tr>\n",
       "      <th>6</th>\n",
       "      <td>4070143</td>\n",
       "      <td>0</td>\n",
       "      <td>0</td>\n",
       "      <td>ECOMDATA PERU S.A.C.</td>\n",
       "      <td>OPERATIVO CON MOVIMIENTO</td>\n",
       "      <td>LIMA</td>\n",
       "      <td>INTEGRADOR/TLV CONTACT CENTER</td>\n",
       "      <td>JOSE LUIS VALVERDE</td>\n",
       "      <td>4331237497</td>\n",
       "      <td>E1-0140-00004620</td>\n",
       "      <td>2024-06-11</td>\n",
       "      <td>2024-06-11</td>\n",
       "      <td>J3</td>\n",
       "      <td>10</td>\n",
       "      <td>PEN</td>\n",
       "      <td>-129.00</td>\n",
       "      <td>DETRACCION-E1-0140-00004620</td>\n",
       "    </tr>\n",
       "    <tr>\n",
       "      <th>8</th>\n",
       "      <td>4070218</td>\n",
       "      <td>0</td>\n",
       "      <td>0</td>\n",
       "      <td>AVELLANEDA MEDINA JUDITH MARIBEL</td>\n",
       "      <td>PROCESO DE LIQUIDACIÓN</td>\n",
       "      <td>CENTRO</td>\n",
       "      <td>PVA</td>\n",
       "      <td>WALTER LOPEZ</td>\n",
       "      <td>1420171759</td>\n",
       "      <td>SALDO A FAVOR</td>\n",
       "      <td>2014-08-01</td>\n",
       "      <td>2014-07-31</td>\n",
       "      <td>C2</td>\n",
       "      <td>3613</td>\n",
       "      <td>PEN</td>\n",
       "      <td>-12.99</td>\n",
       "      <td>DA COMPENSACION</td>\n",
       "    </tr>\n",
       "    <tr>\n",
       "      <th>17</th>\n",
       "      <td>4070624</td>\n",
       "      <td>0</td>\n",
       "      <td>0</td>\n",
       "      <td>TAQUIMA CUTI HILARIO</td>\n",
       "      <td>OPERATIVO SIN MOVIMIENTO</td>\n",
       "      <td>SUR</td>\n",
       "      <td>PVA</td>\n",
       "      <td>REGION SUR</td>\n",
       "      <td>1420109612</td>\n",
       "      <td>0910015546</td>\n",
       "      <td>2013-10-31</td>\n",
       "      <td>2013-10-29</td>\n",
       "      <td>C2</td>\n",
       "      <td>3888</td>\n",
       "      <td>PEN</td>\n",
       "      <td>-38.00</td>\n",
       "      <td>DA COMPENSACION</td>\n",
       "    </tr>\n",
       "    <tr>\n",
       "      <th>48</th>\n",
       "      <td>4070792</td>\n",
       "      <td>0</td>\n",
       "      <td>0</td>\n",
       "      <td>WORLD CONNECT E.I.R.L.</td>\n",
       "      <td>OPERATIVO CON MOVIMIENTO</td>\n",
       "      <td>SUR</td>\n",
       "      <td>DACE</td>\n",
       "      <td>REGION SUR</td>\n",
       "      <td>2290600794</td>\n",
       "      <td>SALDO DE COMPENS</td>\n",
       "      <td>2024-05-31</td>\n",
       "      <td>2024-05-28</td>\n",
       "      <td>AB</td>\n",
       "      <td>24</td>\n",
       "      <td>PEN</td>\n",
       "      <td>-1.63</td>\n",
       "      <td>SALDO DE COMPENS</td>\n",
       "    </tr>\n",
       "    <tr>\n",
       "      <th>52</th>\n",
       "      <td>4071001</td>\n",
       "      <td>0</td>\n",
       "      <td>0</td>\n",
       "      <td>CUEVA CHUN PEDRO MARCIANO</td>\n",
       "      <td>OPERATIVO SIN MOVIMIENTO</td>\n",
       "      <td>NORTE</td>\n",
       "      <td>PVA</td>\n",
       "      <td>REGION NORTE</td>\n",
       "      <td>1420132809</td>\n",
       "      <td>SALDO A FAVOR</td>\n",
       "      <td>2013-07-31</td>\n",
       "      <td>2013-07-02</td>\n",
       "      <td>C2</td>\n",
       "      <td>4007</td>\n",
       "      <td>PEN</td>\n",
       "      <td>-60.00</td>\n",
       "      <td>DA saldo a favor</td>\n",
       "    </tr>\n",
       "  </tbody>\n",
       "</table>\n",
       "</div>"
      ],
      "text/plain": [
       "     Cuenta ACC Producto                           Cliente  \\\n",
       "6   4070143   0        0              ECOMDATA PERU S.A.C.   \n",
       "8   4070218   0        0  AVELLANEDA MEDINA JUDITH MARIBEL   \n",
       "17  4070624   0        0              TAQUIMA CUTI HILARIO   \n",
       "48  4070792   0        0            WORLD CONNECT E.I.R.L.   \n",
       "52  4071001   0        0         CUEVA CHUN PEDRO MARCIANO   \n",
       "\n",
       "                      Status  Region                           Tipo  \\\n",
       "6   OPERATIVO CON MOVIMIENTO    LIMA  INTEGRADOR/TLV CONTACT CENTER   \n",
       "8     PROCESO DE LIQUIDACIÓN  CENTRO                            PVA   \n",
       "17  OPERATIVO SIN MOVIMIENTO     SUR                            PVA   \n",
       "48  OPERATIVO CON MOVIMIENTO     SUR                           DACE   \n",
       "52  OPERATIVO SIN MOVIMIENTO   NORTE                            PVA   \n",
       "\n",
       "           Responsable     Nº doc.        Referencia Fecha doc. Fecha pago  \\\n",
       "6   JOSE LUIS VALVERDE  4331237497  E1-0140-00004620 2024-06-11 2024-06-11   \n",
       "8         WALTER LOPEZ  1420171759     SALDO A FAVOR 2014-08-01 2014-07-31   \n",
       "17          REGION SUR  1420109612        0910015546 2013-10-31 2013-10-29   \n",
       "48          REGION SUR  2290600794  SALDO DE COMPENS 2024-05-31 2024-05-28   \n",
       "52        REGION NORTE  1420132809     SALDO A FAVOR 2013-07-31 2013-07-02   \n",
       "\n",
       "   Clase  Demora Mon.  Importe en ML                        Texto  \n",
       "6     J3      10  PEN        -129.00  DETRACCION-E1-0140-00004620  \n",
       "8     C2    3613  PEN         -12.99              DA COMPENSACION  \n",
       "17    C2    3888  PEN         -38.00              DA COMPENSACION  \n",
       "48    AB      24  PEN          -1.63             SALDO DE COMPENS  \n",
       "52    C2    4007  PEN         -60.00             DA saldo a favor  "
      ]
     },
     "execution_count": 18,
     "metadata": {},
     "output_type": "execute_result"
    }
   ],
   "source": [
    "# fillna \"ACC\" y \"Producto\" con 0\n",
    "df_matriz[\"ACC\"].fillna(\"0\", inplace=True)\n",
    "df_matriz[\"Producto\"].fillna(\"0\", inplace=True)\n",
    "df_matriz.head(5)"
   ]
  },
  {
   "cell_type": "code",
   "execution_count": 43,
   "metadata": {},
   "outputs": [
    {
     "data": {
      "text/html": [
       "<div>\n",
       "<style scoped>\n",
       "    .dataframe tbody tr th:only-of-type {\n",
       "        vertical-align: middle;\n",
       "    }\n",
       "\n",
       "    .dataframe tbody tr th {\n",
       "        vertical-align: top;\n",
       "    }\n",
       "\n",
       "    .dataframe thead th {\n",
       "        text-align: right;\n",
       "    }\n",
       "</style>\n",
       "<table border=\"1\" class=\"dataframe\">\n",
       "  <thead>\n",
       "    <tr style=\"text-align: right;\">\n",
       "      <th></th>\n",
       "      <th>Responsable</th>\n",
       "      <th>Nro DAC's</th>\n",
       "      <th>Importe en ML</th>\n",
       "      <th>%</th>\n",
       "    </tr>\n",
       "  </thead>\n",
       "  <tbody>\n",
       "    <tr>\n",
       "      <th>0</th>\n",
       "      <td>REGION SUR</td>\n",
       "      <td>90</td>\n",
       "      <td>-1132220.02</td>\n",
       "      <td>0.29</td>\n",
       "    </tr>\n",
       "    <tr>\n",
       "      <th>1</th>\n",
       "      <td>REGION NORTE</td>\n",
       "      <td>149</td>\n",
       "      <td>-927238.47</td>\n",
       "      <td>0.24</td>\n",
       "    </tr>\n",
       "    <tr>\n",
       "      <th>2</th>\n",
       "      <td>YOLANDA OLIVA</td>\n",
       "      <td>37</td>\n",
       "      <td>-658727.73</td>\n",
       "      <td>0.17</td>\n",
       "    </tr>\n",
       "    <tr>\n",
       "      <th>3</th>\n",
       "      <td>JOSE LUIS VALVERDE</td>\n",
       "      <td>48</td>\n",
       "      <td>-491404.29</td>\n",
       "      <td>0.13</td>\n",
       "    </tr>\n",
       "    <tr>\n",
       "      <th>4</th>\n",
       "      <td>RAQUEL CAYETANO</td>\n",
       "      <td>31</td>\n",
       "      <td>-268189.92</td>\n",
       "      <td>0.07</td>\n",
       "    </tr>\n",
       "    <tr>\n",
       "      <th>5</th>\n",
       "      <td>DIEGO RODRIGUEZ</td>\n",
       "      <td>37</td>\n",
       "      <td>-221183.49</td>\n",
       "      <td>0.06</td>\n",
       "    </tr>\n",
       "    <tr>\n",
       "      <th>6</th>\n",
       "      <td>JUAN CARLOS HUATAY</td>\n",
       "      <td>31</td>\n",
       "      <td>-160743.29</td>\n",
       "      <td>0.04</td>\n",
       "    </tr>\n",
       "    <tr>\n",
       "      <th>7</th>\n",
       "      <td>WALTER LOPEZ</td>\n",
       "      <td>8</td>\n",
       "      <td>-9732.44</td>\n",
       "      <td>0.00</td>\n",
       "    </tr>\n",
       "    <tr>\n",
       "      <th>8</th>\n",
       "      <td>Total General</td>\n",
       "      <td>431</td>\n",
       "      <td>-3869439.65</td>\n",
       "      <td>1.00</td>\n",
       "    </tr>\n",
       "  </tbody>\n",
       "</table>\n",
       "</div>"
      ],
      "text/plain": [
       "          Responsable  Nro DAC's  Importe en ML     %\n",
       "0          REGION SUR         90    -1132220.02  0.29\n",
       "1        REGION NORTE        149     -927238.47  0.24\n",
       "2       YOLANDA OLIVA         37     -658727.73  0.17\n",
       "3  JOSE LUIS VALVERDE         48     -491404.29  0.13\n",
       "4     RAQUEL CAYETANO         31     -268189.92  0.07\n",
       "5     DIEGO RODRIGUEZ         37     -221183.49  0.06\n",
       "6  JUAN CARLOS HUATAY         31     -160743.29  0.04\n",
       "7        WALTER LOPEZ          8       -9732.44  0.00\n",
       "8       Total General        431    -3869439.65  1.00"
      ]
     },
     "execution_count": 43,
     "metadata": {},
     "output_type": "execute_result"
    }
   ],
   "source": [
    "sort_cols = [\"Responsable\", \"Nro DAC's\", \"Importe en ML\", \"%\"]\n",
    "df_resumen = df_matriz.groupby([\"Responsable\"])[\"Importe en ML\"].sum().reset_index()\n",
    "df_resumen[\"Nro DAC's\"] = df_matriz.groupby([\"Responsable\"])[\"Cliente\"].nunique().values\n",
    "df_resumen[\"%\"] = (df_resumen[\"Importe en ML\"] / df_resumen[\"Importe en ML\"].sum()).round(2)\n",
    "df_resumen = df_resumen.sort_values(by=\"Importe en ML\", ascending=True)\n",
    "df_resumen = df_resumen[sort_cols]\n",
    "df_resumen.reset_index(drop=True, inplace=True)\n",
    "df_resumen.loc[df_resumen.shape[0]] = [\"Total General\", df_resumen[\"Nro DAC's\"].sum(), df_resumen[\"Importe en ML\"].sum(), 1]\n",
    "df_resumen"
   ]
  },
  {
   "cell_type": "code",
   "execution_count": 44,
   "metadata": {},
   "outputs": [],
   "source": [
    "with pd.ExcelWriter(ruta_matriz, engine=\"openpyxl\") as writer:\n",
    "    df_resumen.to_excel(writer, sheet_name=\"Resumen\", index=False)\n",
    "    df_matriz.to_excel(writer, sheet_name=\"Detalle\", index=False)"
   ]
  },
  {
   "cell_type": "code",
   "execution_count": 45,
   "metadata": {},
   "outputs": [],
   "source": [
    "os.startfile(ruta_matriz)"
   ]
  }
 ],
 "metadata": {
  "kernelspec": {
   "display_name": "Python 3",
   "language": "python",
   "name": "python3"
  },
  "language_info": {
   "codemirror_mode": {
    "name": "ipython",
    "version": 3
   },
   "file_extension": ".py",
   "mimetype": "text/x-python",
   "name": "python",
   "nbconvert_exporter": "python",
   "pygments_lexer": "ipython3",
   "version": "3.10.9"
  }
 },
 "nbformat": 4,
 "nbformat_minor": 2
}
